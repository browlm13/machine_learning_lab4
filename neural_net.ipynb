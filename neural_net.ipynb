{
 "cells": [
  {
   "cell_type": "code",
   "execution_count": 1,
   "metadata": {},
   "outputs": [
    {
     "name": "stdout",
     "output_type": "stream",
     "text": [
      "(1797, 64)\n",
      "(1797,)\n",
      "-0.5 0.5\n",
      "[0 1 2 3 4 5 6 7 8 9]\n"
     ]
    }
   ],
   "source": [
    "# lets load up the handwritten digit dataset\n",
    "from sklearn.datasets import load_digits\n",
    "from sklearn.metrics import accuracy_score\n",
    "from sklearn.preprocessing import StandardScaler\n",
    "import numpy as np\n",
    "\n",
    "ds = load_digits()\n",
    "X = ds.data/16.0-0.5\n",
    "y = ds.target\n",
    "\n",
    "print(X.shape)\n",
    "print(y.shape)\n",
    "print(np.min(X),np.max(X))\n",
    "print(np.unique(y))"
   ]
  },
  {
   "cell_type": "code",
   "execution_count": 2,
   "metadata": {},
   "outputs": [
    {
     "data": {
      "image/png": "[encoded data removed]",
      "text/plain": [
       "<Figure size 432x288 with 10 Axes>"
      ]
     },
     "metadata": {},
     "output_type": "display_data"
    }
   ],
   "source": [
    "import matplotlib.pyplot as plt\n",
    "%matplotlib inline\n",
    "\n",
    "fig, ax = plt.subplots(nrows=2, ncols=5, sharex=True, sharey=True,)\n",
    "ax = ax.flatten()\n",
    "for i in range(10):\n",
    "    img = X[y == i][0].reshape(8, 8)\n",
    "    ax[i].imshow(img, cmap='Greys', interpolation='nearest')\n",
    "\n",
    "ax[0].set_xticks([])\n",
    "ax[0].set_yticks([])\n",
    "plt.tight_layout()\n",
    "plt.show()"
   ]
  },
  {
   "cell_type": "code",
   "execution_count": 3,
   "metadata": {},
   "outputs": [
    {
     "data": {
      "image/png": "[encoded data removed]",
      "text/plain": [
       "<Figure size 432x288 with 25 Axes>"
      ]
     },
     "metadata": {},
     "output_type": "display_data"
    }
   ],
   "source": [
    "fig, ax = plt.subplots(nrows=5, ncols=5, sharex=True, sharey=True,)\n",
    "ax = ax.flatten()\n",
    "digit = 4\n",
    "x_digits = X[y == digit]\n",
    "for i in range(25):\n",
    "    img = x_digits[i].reshape(8, 8)\n",
    "    ax[i].imshow(img, cmap='Greys', interpolation='nearest')\n",
    "\n",
    "ax[0].set_xticks([])\n",
    "ax[0].set_yticks([])\n",
    "plt.tight_layout()\n",
    "plt.show()"
   ]
  },
  {
   "cell_type": "code",
   "execution_count": 4,
   "metadata": {},
   "outputs": [
    {
     "name": "stdout",
     "output_type": "stream",
     "text": [
      "(1437, 64)\n",
      "(1437,)\n",
      "(360, 64)\n",
      "(360,)\n"
     ]
    }
   ],
   "source": [
    "from sklearn.model_selection import train_test_split\n",
    "\n",
    "X_train, X_test, y_train, y_test = train_test_split(X,y,test_size = 0.2)\n",
    "print(X_train.shape)\n",
    "print(y_train.shape)\n",
    "print(X_test.shape)\n",
    "print(y_test.shape)"
   ]
  },
  {
   "cell_type": "markdown",
   "metadata": {},
   "source": [
    "# Multi-layer Perceptron (MLP)"
   ]
  },
  {
   "cell_type": "markdown",
   "metadata": {},
   "source": [
    "## Network as a black box"
   ]
  },
  {
   "cell_type": "markdown",
   "metadata": {},
   "source": [
    "Given the network an **instance vector**, $x$, we would like to send it through our trained **network** and have the newtork output it's prediction for the **class** $x$ belongs to. This networks output prediction comes in the form of a **prediction vector**, $\\tilde{y}$."
   ]
  },
  {
   "cell_type": "markdown",
   "metadata": {},
   "source": [
    "$$ \n",
    "x\n",
    "\\hspace{1cm}\n",
    "\\rightarrow\n",
    "\\mathbf{\\text{NETWORK}}\n",
    "\\rightarrow  \\hspace{1cm}\n",
    "\\tilde{y}\n",
    "$$\n"
   ]
  },
  {
   "cell_type": "markdown",
   "metadata": {},
   "source": [
    "The instance vector's elements are called **features**, and the network uses these features to determine the class that particular instance most likley belongs to."
   ]
  },
  {
   "cell_type": "markdown",
   "metadata": {},
   "source": [
    "Say our instances all have $n$ features $\\left( \\, \\, f_0, \\, f_1, \\, \\ldots, \\, f_{n-1} \\, \\right)$, <br/> and we want to classify these instances into one of $p$ classes $\\left( \\, c_0, \\, c_1, \\, \\ldots, \\, c_{p-1} \\, \\right)$.  <br/>\n",
    "Then we write the instance vectors and prediction vectors like this,"
   ]
  },
  {
   "cell_type": "markdown",
   "metadata": {},
   "source": [
    "$$ \n",
    "x =\n",
    "\\begin{bmatrix} f_{0}, & \\, \\ldots, & \\, f_{n-1} \\end{bmatrix},\n",
    "\\hspace{1cm}\n",
    "\\begin{bmatrix}\n",
    "       score_{c_{0}} \\\\\n",
    "       \\vdots \\\\\n",
    "       score{c_{p-1}}\n",
    "\\end{bmatrix}\n",
    "= \\tilde{y}\n",
    "$$"
   ]
  },
  {
   "cell_type": "markdown",
   "metadata": {},
   "source": [
    "Sending the instance $x$ through our network results in the networks prediction vector $y$ with a score for each class in it's assosciated row."
   ]
  },
  {
   "cell_type": "markdown",
   "metadata": {},
   "source": [
    "$$ \n",
    "x =\n",
    "\\begin{bmatrix} f_0, & \\, \\ldots & \\, f_{n-1} \\end{bmatrix}  \\hspace{1cm}\n",
    "\\rightarrow\n",
    "\\mathbf{\\text{NETWORK}}\n",
    "\\rightarrow  \\hspace{1cm}\n",
    "\\begin{bmatrix}\n",
    "       score_{c_{0}} \\\\\n",
    "       \\vdots \\\\\n",
    "       score_{c_{p-1}}\n",
    "\\end{bmatrix}\n",
    "= \\tilde{y}\n",
    "$$"
   ]
  },
  {
   "cell_type": "markdown",
   "metadata": {},
   "source": [
    "The row with largest value in $ \\tilde{y} $ is usually taken to be the predicted class. \n",
    "So for the input vector, $x$, the predicted class would be the class corresponding to the row in the prediction vector, $y$, with the largest value. <br/>"
   ]
  },
  {
   "cell_type": "markdown",
   "metadata": {},
   "source": [
    "Say the $j^{th}$ row is the largest value in $\\tilde{y}$, then the class corresponding to row $j$ ($c_j$) is the networks perdiction for the instance $x$."
   ]
  },
  {
   "cell_type": "markdown",
   "metadata": {},
   "source": [
    "$$\n",
    "\\tilde{y} =\n",
    "\\begin{bmatrix}\n",
    "       score_{c_{0}} \\\\\n",
    "       \\vdots \\\\\n",
    "       \\mathbf{score_{c_j}}\\\\\n",
    "       \\vdots \\\\\n",
    "       score_{c_{p-1}}\n",
    "\\end{bmatrix}, \\text{ where } score_{c_j} \\text{ is the } max \\left( score \\right) \\in  \\tilde{y}\n",
    "$$"
   ]
  },
  {
   "cell_type": "markdown",
   "metadata": {},
   "source": [
    "Then the network predicted that the instance $x$ is a memeber of class $c_j$."
   ]
  },
  {
   "cell_type": "markdown",
   "metadata": {},
   "source": [
    "Take a look at what this might look like using some python code..."
   ]
  },
  {
   "cell_type": "markdown",
   "metadata": {},
   "source": [
    "`import numpy as np`<br/><br/>\n",
    "\n",
    "`# let's use a network that takes instances with 3 features`<br/>\n",
    "`f0, f1, f2 = 1, 1, 2`<br/><br/>\n",
    "\n",
    "`# and lets say the network has two classes`<br/>\n",
    "`class_dictonary = {0:'class_0', 1:'class_1'}`<br/><br/>\n",
    "\n",
    "`# create the instance vector x that we would like to classify...`<br/>\n",
    "`x = np.array([f0,f1,f2])` <br/><br/>\n",
    "\n",
    "`# pass the instance to our trained network for its prediction...`<br/>\n",
    "`y_hat = network.predict(x)` <br/><br/>\n",
    "\n",
    "`# printing y_hat we will see the scores our network gave for each class`<br/>\n",
    "`print(y_hat)`<br/>\n",
    "`  [0.9 0.2]`<br/><br/>\n",
    "\n",
    "`# get the index of y_hat with the highest score`<br/>\n",
    "`predicted_class_index = np.argmax( y_hat )`<br/><br/>\n",
    "\n",
    "`# and use the class dictonary to make it human readable`<br/>\n",
    "`prediction = class_dictonary[ predicted_class_index ]`<br/><br/>\n",
    "\n",
    "`print( prediction )`<br/>\n",
    "`  class_0`<br/><br/>"
   ]
  },
  {
   "cell_type": "markdown",
   "metadata": {},
   "source": [
    "### Using Matrices\n",
    "With lots of instances it becomes useful to group these vectors into Matrices"
   ]
  },
  {
   "cell_type": "markdown",
   "metadata": {},
   "source": [
    "If there are $m$ instance vectors, $ \\left( \\, x_{0}, \\, \\ldots, \\, x_{m-1} \\, \\right) $, each with $n$ features, <br/>\n",
    "\n",
    "$$ \n",
    "x_i =\n",
    "\\begin{bmatrix} f_0, & \\, \\ldots, & \\, f_{n-1} \\end{bmatrix},\n",
    "\\hspace{0.5cm} for \\; i = 0, \\, \\ldots, \\, n-1\n",
    "$$\n",
    "\n"
   ]
  },
  {
   "cell_type": "markdown",
   "metadata": {},
   "source": [
    "Then we can group these instance vectors into rows in an input matrix, $ \\mathbf{X}_{m \\times n} $, and use this matrix as an input to the network, <br/> <br/>\n",
    "$$\n",
    "\\mathbf{X} =\n",
    "\\begin{bmatrix}\n",
    "    \\text{---} & x_0 & \\text{---} \\\\\n",
    "               & \\ldots    & \\\\\n",
    "    \\text{---} & x_{m-1} & \\text{---}\n",
    "\\end{bmatrix}\n",
    "$$\n",
    "\n"
   ]
  },
  {
   "cell_type": "markdown",
   "metadata": {},
   "source": [
    "Similarly the output prediction vectors of the network for each instance represented as a matrix of column vectors, <br/>"
   ]
  },
  {
   "cell_type": "markdown",
   "metadata": {},
   "source": [
    "$$\n",
    "\\mathbf{\\tilde{Y}} = \n",
    "\\begin{bmatrix}\n",
    "    \\vert         &        & \\vert       \\\\\n",
    "    \\tilde{y}_0   & \\ldots & \\tilde{y}_{m-1} \\\\\n",
    "    \\vert         &        & \\vert\n",
    "\\end{bmatrix}\n",
    "$$"
   ]
  },
  {
   "cell_type": "markdown",
   "metadata": {},
   "source": [
    "The number of **rows** in $\\mathbf{\\tilde{Y}}$ is equal to the number of **classes** the network is trying to classify and the output of the network would be $\\mathbf{\\tilde{Y}}_{m \\times p}$. "
   ]
  },
  {
   "cell_type": "markdown",
   "metadata": {},
   "source": [
    "$$\n",
    "\\mathbf{\\tilde{Y}} =\n",
    "\\begin{bmatrix}\n",
    "    \\text{---} & score_{c_0} & \\text{---} \\\\\n",
    "               & \\ldots    & \\\\\n",
    "    \\text{---} & score_{c_{p-1}} & \\text{---}\n",
    "\\end{bmatrix}\n",
    "$$\n",
    "\n"
   ]
  },
  {
   "cell_type": "markdown",
   "metadata": {},
   "source": [
    "The prediction for a single instance $x_i$ ( which is the $i^{th}$ row of $\\mathbf{X}$ )\n",
    "would be $ \\tilde{y_i} $, which is the $i^{th}$ column in $\\mathbf{\\tilde{Y}}$. <br/>\n",
    "<br/>"
   ]
  },
  {
   "cell_type": "markdown",
   "metadata": {},
   "source": [
    "$$\n",
    "\\mathbf{X} =\n",
    "\\begin{bmatrix}\n",
    "    \\text{---} & x_0 & \\text{---} \\\\\n",
    "               & \\ldots    & \\\\\n",
    "    \\mathbf{\\text{---}} & \\mathbf{x_i} & \\mathbf{\\text{---}} \\\\\n",
    "               & \\ldots    & \\\\\n",
    "    \\text{---} & x_{m-1} & \\text{---}\n",
    "\\end{bmatrix} \\hspace{1cm}\n",
    "\\rightarrow\n",
    "\\mathbf{\\text{NETWORK}}\n",
    "\\rightarrow \\hspace{1cm}\n",
    "\\begin{bmatrix} \n",
    "    \\vert         &        &\\mathbf{\\text{|}}      &        & \\vert       \\\\\n",
    "    \\tilde{y}_0   & \\ldots &\\mathbf{\\tilde{y}_i}   & \\ldots & \\tilde{y}_{m-1} \\\\\n",
    "    \\vert         &        &\\mathbf{\\text{|}}      &        & \\vert\n",
    "\\end{bmatrix}\n",
    "= \\mathbf{\\tilde{Y}}\n",
    "$$"
   ]
  },
  {
   "cell_type": "markdown",
   "metadata": {},
   "source": [
    "<center> Now the Networks prediction for $\\mathbf{X}[i,:]$ is its output $\\mathbf{Y}[:,i]$</center>\n",
    "\n"
   ]
  },
  {
   "cell_type": "markdown",
   "metadata": {},
   "source": [
    "Compare this to what we had above,"
   ]
  },
  {
   "cell_type": "markdown",
   "metadata": {},
   "source": [
    "$$ \n",
    "x =\n",
    "\\begin{bmatrix} f_0, & \\, \\ldots & \\, f_{n-1} \\end{bmatrix}  \\hspace{1cm}\n",
    "\\rightarrow\n",
    "\\mathbf{\\text{NETWORK}}\n",
    "\\rightarrow  \\hspace{1cm}\n",
    "\\begin{bmatrix}\n",
    "       score_{c_{0}} \\\\\n",
    "       \\vdots \\\\\n",
    "       score_{c_{p-1}}\n",
    "\\end{bmatrix}\n",
    "= \\tilde{y}\n",
    "$$"
   ]
  },
  {
   "cell_type": "markdown",
   "metadata": {},
   "source": [
    "## Feed Forward Network Aretecture\n",
    "\"What is happening when the network makes its predictions\""
   ]
  },
  {
   "cell_type": "markdown",
   "metadata": {},
   "source": [
    "### Single Layer Perceptron\n",
    "Lets start with the simple case of one layer..."
   ]
  },
  {
   "cell_type": "markdown",
   "metadata": {},
   "source": [
    "With the single layer case, if we ignore bias terms and activation functions then we are just trying to solve the linear system bellow for $\\mathbf{W}$,\n",
    "\n",
    "$$\n",
    "    \\mathbf{W} \\mathbf{X^{T}} = \\mathbf{Y}\n",
    "$$"
   ]
  },
  {
   "cell_type": "markdown",
   "metadata": {},
   "source": [
    "Notice here that $\\mathbf{Y}$ is missing it's hat ( $\\mathbf{\\tilde{Y}}$ )..."
   ]
  },
  {
   "cell_type": "markdown",
   "metadata": {},
   "source": [
    "We want our network to predict the classes for each row in $\\mathbf{X}$ correctly, so we \"train\" our network by solving this system for $\\mathbf{W}$ using instances we know the true classes for. The true classes are denoted by dropping the hat on $\\mathbf{Y}$. When we solve this system for $\\mathbf{W}$ on our training data we hope that it will provide accurate predictions for examples we encounter in the real world."
   ]
  },
  {
   "cell_type": "markdown",
   "metadata": {},
   "source": [
    "To prepare for the multilayer case lets introduce another variable now..."
   ]
  },
  {
   "cell_type": "markdown",
   "metadata": {},
   "source": [
    "Let $\\mathbf{A} = \\mathbf{X^{T}}$ and the system we are trying to solve is now,"
   ]
  },
  {
   "cell_type": "markdown",
   "metadata": {},
   "source": [
    "$$\n",
    "    \\mathbf{W} \\mathbf{A} = \\mathbf{Y}\n",
    "$$"
   ]
  },
  {
   "cell_type": "code",
   "execution_count": 208,
   "metadata": {},
   "outputs": [
    {
     "data": {
      "text/latex": [
       "$$ \\text{Pythagorean Theorem} \\\\\n",
       "                a^2 + b^2 = c^2\n",
       "        $$"
      ],
      "text/plain": [
       "<IPython.core.display.Math object>"
      ]
     },
     "metadata": {},
     "output_type": "display_data"
    }
   ],
   "source": [
    "#!/usr/bin/env\n",
    "\n",
    "__filename__ = \"latex_doc_strings.py\"\n",
    "__author__ = \"L.J. Brown\"\n",
    "\n",
    "import re\n",
    "from IPython.display import display, Math, Latex\n",
    "\n",
    "def extract_doc_latex(method):\n",
    "    \"\"\"\n",
    "        looks for latex in doc strings of passes method.\n",
    "        \n",
    "        Format example for docstring:\n",
    "        \n",
    "            r\\\"\"\" \n",
    "                    Foo Method Description \n",
    "\n",
    "                :latex: MULTI-LINE\n",
    "                        LATEX EXPRESSION\n",
    "                        INSERTED HERE\n",
    "                        \n",
    "                :param bar: (example parameter)\n",
    "                :returns: (whatever) \n",
    "\n",
    "                * [Notes] : \n",
    "                \n",
    "                    - latex code must be followed by \n",
    "                        at least one ':'(like the one \n",
    "                        leading param above)\n",
    "                        \n",
    "                    - doc string must be proceeded by r\\\"\"\" \n",
    "            \\\"\"\"\n",
    "            \n",
    "        :param: method with string literal doc string containing latex\n",
    "        :returns: latex string literal\n",
    "        \n",
    "    \"\"\"\n",
    "    p = re.compile('(?:\\:latex\\:)([\\s\\S]+?)(?:\\:)', re.MULTILINE)\n",
    "    m = p.search(method.__doc__)\n",
    "    return m.group(1)\n",
    "\n",
    "def latex_doc(method):\n",
    "    \"\"\"\n",
    "    returns rendered latex from doc string of method passed as parameter\n",
    "\n",
    "    Format example for docstring:\n",
    "\n",
    "            r\\\"\"\" \n",
    "                    Foo Method Description \n",
    "\n",
    "                :latex: MULTI-LINE\n",
    "                        LATEX EXPRESSION\n",
    "                        INSERTED HERE\n",
    "\n",
    "                :param bar: (example parameter)\n",
    "                :returns: (whatever) \n",
    "\n",
    "                * [Notes] : \n",
    "\n",
    "                    - latex code must be followed by \n",
    "                        at least one ':'(like the one \n",
    "                        leading param above)\n",
    "\n",
    "                    - doc string must be proceeded by r\\\"\"\" \n",
    "            \\\"\"\"\n",
    "\n",
    "    :param: method with string literal doc string containing latex\n",
    "    :returns: formated latex expression\n",
    "\n",
    "    \"\"\"  \n",
    "\n",
    "    latex_string = extract_doc_latex(method)\n",
    "    return display(Math(latex_string))\n",
    "\n",
    "# example method with latex in doc string formated correctly\n",
    "def foo(bar):\n",
    "    r\"\"\"\n",
    "            Example method with latex in doc string\n",
    "\n",
    "        :latex: \\text{Pythagorean Theorem} \\\\\n",
    "                a^2 + b^2 = c^2\n",
    "        :param bar: example parameter\n",
    "        :returns: None\n",
    "    \"\"\"\n",
    "\n",
    "# render doc string latex for example method above\n",
    "latex_doc(foo)"
   ]
  },
  {
   "cell_type": "code",
   "execution_count": 228,
   "metadata": {},
   "outputs": [
    {
     "data": {
      "text/latex": [
       "$$ \n",
       "       \n",
       "               \\text{Takes as input paramater a matrix $M_{m \\times n}$.} \\\\\n",
       "               \\text{Adds a bias row or column of '$1's$' to the first row } \\\\\n",
       "               \\text{or column, depending on input parameter 'how'.} \\\\\n",
       "               \\text{('how' parameter defaults to 'column')}\\\\ \\\\ \\\\\n",
       "               \\mathbf{M_{input}} =\n",
       "                \\begin{bmatrix}\n",
       "                    m_{0,0} & \\ldots  & m_{0,n} \\\\\n",
       "                    \\vdots  & \\ldots  & \\vdots \\\\\n",
       "                    m_{m,0} & \\ldots  & m_{m,n}\n",
       "                \\end{bmatrix}\n",
       "                \\\\\\\\\n",
       "                \\text{Returns, }\\\\\n",
       "                \\mathbf{M'_{column \\, bias}} =\n",
       "                \\begin{bmatrix}\n",
       "                     1     &  m_{0,0} & \\ldots  & m_{0,n+1} \\\\\n",
       "                   \\vdots  &  \\vdots  & \\ldots  & \\vdots \\\\\n",
       "                     1     &  m_{m,0} & \\ldots  & m_{m,n+1}\n",
       "                \\end{bmatrix}, \n",
       "                \\begin{bmatrix}\n",
       "                     1       & \\ldots  & 1      \\\\\n",
       "                     m_{0,0} & \\ldots  & m_{0,n} \\\\\n",
       "                     \\vdots  & \\ldots  & \\vdots  \\\\\n",
       "                     m_{m+1,0} & \\ldots  & m_{m+1,n}\n",
       "                \\end{bmatrix} \n",
       "                = \\mathbf{M'_{row \\, bias}}\n",
       "       $$"
      ],
      "text/plain": [
       "<IPython.core.display.Math object>"
      ]
     },
     "metadata": {},
     "output_type": "display_data"
    }
   ],
   "source": [
    "def add_bias(M, how='column'):\n",
    "    r\"\"\"\n",
    "        Add bias unit (column or row of 1s) to array at index 0\n",
    "        \n",
    "       :latex: \n",
    "       \n",
    "               \\text{Takes as input paramater a matrix $M_{m \\times n}$.} \\\\\n",
    "               \\text{Adds a bias row or column of '$1's$' to the first row } \\\\\n",
    "               \\text{or column, depending on input parameter 'how'.} \\\\\n",
    "               \\text{('how' parameter defaults to 'column')}\\\\ \\\\ \\\\\n",
    "               \\mathbf{M_{input}} =\n",
    "                \\begin{bmatrix}\n",
    "                    m_{0,0} & \\ldots  & m_{0,n} \\\\\n",
    "                    \\vdots  & \\ldots  & \\vdots \\\\\n",
    "                    m_{m,0} & \\ldots  & m_{m,n}\n",
    "                \\end{bmatrix}\n",
    "                \\\\\\\\\n",
    "                \\text{Returns, }\\\\\n",
    "                \\mathbf{M'_{column \\, bias}} =\n",
    "                \\begin{bmatrix}\n",
    "                     1     &  m_{0,0} & \\ldots  & m_{0,n+1} \\\\\n",
    "                   \\vdots  &  \\vdots  & \\ldots  & \\vdots \\\\\n",
    "                     1     &  m_{m,0} & \\ldots  & m_{m,n+1}\n",
    "                \\end{bmatrix}, \n",
    "                \\begin{bmatrix}\n",
    "                     1       & \\ldots  & 1      \\\\\n",
    "                     m_{0,0} & \\ldots  & m_{0,n} \\\\\n",
    "                     \\vdots  & \\ldots  & \\vdots  \\\\\n",
    "                     m_{m+1,0} & \\ldots  & m_{m+1,n}\n",
    "                \\end{bmatrix} \n",
    "                = \\mathbf{M'_{row \\, bias}}\n",
    "       :param M: numpy array to add bias row or column to\n",
    "       :param how: 'column' or 'row', default 'coulmn'\n",
    "    \"\"\"\n",
    "    if how == 'column':\n",
    "        ones = np.ones((M.shape[0], 1))\n",
    "        M_new = np.hstack((ones, M))\n",
    "    elif how == 'row':\n",
    "        ones = np.ones((1, M.shape[1]))\n",
    "        M_new = np.vstack((ones, M))\n",
    "    return A_new\n",
    "\n",
    "latex_doc(add_bias)"
   ]
  },
  {
   "cell_type": "code",
   "execution_count": null,
   "metadata": {},
   "outputs": [],
   "source": [
    "def initialize_weights(M):\n",
    "    \"\"\"Initialize weights with small random numbers.\"\"\"\n",
    "    W1_num_elems = (self.n_features_ + 1)*self.n_hidden\n",
    "    W1 = np.random.uniform(-1.0, 1.0, size=W1_num_elems)\n",
    "    W1 = W1.reshape(self.n_hidden, self.n_features_ + 1) # reshape to be W"
   ]
  },
  {
   "cell_type": "markdown",
   "metadata": {},
   "source": [
    "Limitations and abilities of this system"
   ]
  },
  {
   "cell_type": "markdown",
   "metadata": {},
   "source": [
    "Bias terms and phi functions"
   ]
  },
  {
   "cell_type": "markdown",
   "metadata": {},
   "source": []
  },
  {
   "cell_type": "markdown",
   "metadata": {},
   "source": [
    "### Phi $ \\Phi( \\; Z \\; ) $  Functions"
   ]
  },
  {
   "cell_type": "markdown",
   "metadata": {},
   "source": [
    "#### Single instance input $ \\phi( \\; \\vec{z} \\; ) $ and matrix input $ \\Phi( \\; \\mathbf{Z} \\; ) $"
   ]
  },
  {
   "cell_type": "markdown",
   "metadata": {},
   "source": [
    "$ \\vec{a_{i+1}} = \\phi ( \\; \\vec{z_{i}} \\; ) $"
   ]
  },
  {
   "cell_type": "markdown",
   "metadata": {},
   "source": [
    "$ \\mathbf{A_{i+1}} = \\Phi ( \\; \\mathbf{Z_{i}} \\; ) $"
   ]
  },
  {
   "cell_type": "markdown",
   "metadata": {},
   "source": [
    "#### Sigmoid"
   ]
  },
  {
   "cell_type": "code",
   "execution_count": 5,
   "metadata": {},
   "outputs": [],
   "source": [
    "# Example adapted from https://github.com/rasbt/python-machine-learning-book/blob/master/code/ch12/ch12.ipynb\n",
    "# Original Author: Sebastian Raschka\n",
    "\n",
    "# This is the optional book we use in the course, excellent intuitions and straightforward programming examples\n",
    "# please note, however, that this code has been manipulated to reflect our assumptions and notation.\n",
    "import numpy as np\n",
    "from scipy.special import expit\n",
    "import sys\n",
    "import pandas as pd\n",
    "\n",
    "# start with a simple base classifier, which can't be fit or predicted\n",
    "# it only has internal classes to be used by classes that will subclass it\n",
    "class TwoLayerPerceptronBase(object):\n",
    "    def __init__(self, n_hidden=30, C=0.0, epochs=500, eta=0.001, phi=\"sigmoid\", objective_function=\"quadratic\", random_state=None):\n",
    "        np.random.seed(random_state)\n",
    "        self.n_hidden = n_hidden\n",
    "        self.l2_C = C\n",
    "        self.epochs = epochs\n",
    "        self.eta = eta\n",
    "        self.phi = phi\n",
    "        self.objective_function = objective_function\n",
    "        \n",
    "    @staticmethod\n",
    "    def _encode_labels(y):\n",
    "        \"\"\"Encode labels into one-hot representation\"\"\"\n",
    "        onehot = pd.get_dummies(y).values.T\n",
    "        return onehot\n",
    "\n",
    "    def _initialize_weights(self):\n",
    "        \"\"\"Initialize weights with small random numbers.\"\"\"\n",
    "        W1_num_elems = (self.n_features_ + 1)*self.n_hidden\n",
    "        W1 = np.random.uniform(-1.0, 1.0, size=W1_num_elems)\n",
    "        W1 = W1.reshape(self.n_hidden, self.n_features_ + 1) # reshape to be W\n",
    "        \n",
    "        W2_num_elems = (self.n_hidden + 1)*self.n_output_\n",
    "        W2 = np.random.uniform(-1.0, 1.0, size=W2_num_elems)\n",
    "        W2 = W2.reshape(self.n_output_, self.n_hidden + 1)\n",
    "        return W1, W2\n",
    "    \n",
    "    @staticmethod\n",
    "    def _sigmoid(z):\n",
    "        \"\"\"Use scipy.special.expit to avoid overflow\"\"\"\n",
    "        # 1.0 / (1.0 + np.exp(-z))\n",
    "        return expit(z)\n",
    "    \n",
    "    @staticmethod\n",
    "    def _linear(z):\n",
    "        return z\n",
    "    \n",
    "    def _phi(self, z):\n",
    "        if self.phi == \"sigmoid\":\n",
    "            return self._sigmoid(z)\n",
    "        if self.phi == \"linear\":\n",
    "            return self._linear(z)\n",
    "        \n",
    "    def _phi_grad(self, a):\n",
    "        if self.phi == \"sigmoid\":\n",
    "            return a*(1-a)\n",
    "        if self.phi == \"linear\":\n",
    "            return a\n",
    "    \n",
    "    @staticmethod\n",
    "    def _add_bias_unit(X, how='column'):\n",
    "        \"\"\"Add bias unit (column or row of 1s) to array at index 0\"\"\"\n",
    "        if how == 'column':\n",
    "            ones = np.ones((X.shape[0], 1))\n",
    "            X_new = np.hstack((ones, X))\n",
    "        elif how == 'row':\n",
    "            ones = np.ones((1, X.shape[1]))\n",
    "            X_new = np.vstack((ones, X))\n",
    "        return X_new\n",
    "    \n",
    "    @staticmethod\n",
    "    def _L2_reg(lambda_, W1, W2):\n",
    "        \"\"\"Compute L2-regularization cost\"\"\"\n",
    "        # only compute for non-bias terms\n",
    "        return (lambda_/2.0) * np.sqrt(np.mean(W1[:, 1:] ** 2) + np.mean(W2[:, 1:] ** 2))\n",
    "    \n",
    "    def _objective_grad(self, y, y_hat):\n",
    "        obj_grad = -2*(y - y_hat) * self._phi_grad(y_hat)\n",
    "        return obj_grad\n",
    "    \n",
    "    @staticmethod\n",
    "    def _MSE(Y_enc, Y_hat):\n",
    "        cost = np.mean((Y_enc-Y_hat)**2)\n",
    "        return cost\n",
    "    \n",
    "    @staticmethod\n",
    "    def _log_likelihood(Y_enc, Y_hat):\n",
    "        #term1 = -Y_enc * (np.log(Y_hat))\n",
    "        #term2 = (1.0 - Y_enc) * np.log(1.0 - Y_hat)\n",
    "        #cost = np.sum(term1 - term2)\n",
    "        cost = np.sum(Y_enc * (np.log(Y_hat)))\n",
    "        return cost\n",
    "        \n",
    "    def _cost(self,Y_hat,Y_enc,W1,W2):\n",
    "        '''Get the objective function value'''\n",
    "        if self.objective_function == \"quadratic\":\n",
    "            cost = self._MSE(Y_enc, Y_hat)\n",
    "        if self.objective_function == \"cross_entropy\":\n",
    "            cost = self._log_likelihood(Y_enc, Y_hat)\n",
    "        #cost = np.mean((Y_enc-A3)**2)\n",
    "        L2_term = self._L2_reg(self.l2_C, W1, W2)\n",
    "        return cost + L2_term"
   ]
  },
  {
   "cell_type": "code",
   "execution_count": 6,
   "metadata": {},
   "outputs": [],
   "source": [
    "class TwoLayerPerceptron(TwoLayerPerceptronBase):\n",
    "    def _feedforward(self, X, W1, W2):\n",
    "        \"\"\"Compute feedforward step\n",
    "        -----------\n",
    "        X : Input layer with original features.\n",
    "        W1: Weight matrix for input layer -> hidden layer.\n",
    "        W2: Weight matrix for hidden layer -> output layer.\n",
    "        ----------\n",
    "        a1-a3 : activations into layer (or output layer)\n",
    "        z1-z2 : layer inputs \n",
    "\n",
    "        \"\"\"\n",
    "        A1 = self._add_bias_unit(X.T, how='row')\n",
    "        Z1 = W1 @ A1\n",
    "        A2 = self._phi(Z1)\n",
    "        A2 = self._add_bias_unit(A2, how='row')\n",
    "        Z2 = W2 @ A2\n",
    "        A3 = self._phi(Z2)\n",
    "        return A1, Z1, A2, Z2, A3\n",
    "    \n",
    "    def _get_gradient(self, A1, A2, A3, Z1, Z2, Y_enc, W1, W2):\n",
    "        \"\"\" Compute gradient step using backpropagation.\n",
    "        \"\"\"\n",
    "        # backpropagation\n",
    "        grad1 = np.zeros(W1.shape)\n",
    "        grad2 = np.zeros(W2.shape)\n",
    "        \n",
    "        # for each instance's activations \n",
    "        for (a1,a2,a3,y) in zip(A1.T,A2.T,A3.T,Y_enc.T):\n",
    "            \n",
    "            dJ_dz2 = self._objective_grad(y, a3)\n",
    "            dJ_dz1 = dJ_dz2 @ W2 @ np.diag(self._phi_grad(a2))\n",
    "                         \n",
    "            dz2_dw2 = a2[np.newaxis,:]\n",
    "            dz1_dw1 = a1[np.newaxis,:]\n",
    "            \n",
    "            # grad = VA.T \n",
    "            grad2 += dJ_dz2[:,np.newaxis]  @ dz2_dw2\n",
    "            grad1 += dJ_dz1[1:,np.newaxis] @ dz1_dw1\n",
    "            # don't incorporate bias term in the z1 gradient \n",
    "            # (its added in a2 from another layer)\n",
    "            \n",
    "\n",
    "        # regularize weights that are not bias terms\n",
    "        grad1[:, 1:] += (W1[:, 1:] * self.l2_C)\n",
    "        grad2[:, 1:] += (W2[:, 1:] * self.l2_C)\n",
    "\n",
    "        return grad1, grad2\n",
    "    \n",
    "    def predict(self, X):\n",
    "        \"\"\"Predict class labels\"\"\"\n",
    "        _, _, _, _, A3 = self._feedforward(X, self.W1, self.W2)\n",
    "        y_pred = np.argmax(A3, axis=0)\n",
    "        return y_pred\n",
    "    \n",
    "    \n",
    "    def fit(self, X, y, print_progress=False):\n",
    "        \"\"\" Learn weights from training data.\"\"\"\n",
    "        \n",
    "        X_data, y_data = X.copy(), y.copy()\n",
    "        Y_enc = self._encode_labels(y)\n",
    "        \n",
    "        # init weights and setup matrices\n",
    "        self.n_features_ = X_data.shape[1]\n",
    "        self.n_output_ = Y_enc.shape[0]\n",
    "        self.W1, self.W2 = self._initialize_weights()\n",
    "\n",
    "        self.cost_ = []\n",
    "        for i in range(self.epochs):\n",
    "\n",
    "            if print_progress>0 and (i+1)%print_progress==0:\n",
    "                sys.stderr.write('\\rEpoch: %d/%d' % (i+1, self.epochs))\n",
    "                sys.stderr.flush()\n",
    "\n",
    "            # feedforward all instances\n",
    "            A1, Z1, A2, Z2, A3 = self._feedforward(X_data,self.W1,self.W2)\n",
    "            \n",
    "            cost = self._cost(A3,Y_enc,self.W1,self.W2)\n",
    "            self.cost_.append(cost)\n",
    "\n",
    "            # compute gradient via backpropagation\n",
    "            grad1, grad2 = self._get_gradient(A1=A1, A2=A2, A3=A3, Z1=Z1, Z2=Z2, Y_enc=Y_enc,\n",
    "                                              W1=self.W1, W2=self.W2)\n",
    "\n",
    "            self.W1 -= self.eta * grad1\n",
    "            self.W2 -= self.eta * grad2\n",
    "            \n",
    "\n",
    "        return self"
   ]
  },
  {
   "cell_type": "code",
   "execution_count": 11,
   "metadata": {},
   "outputs": [],
   "source": [
    "params = dict(n_hidden=50, \n",
    "              C=0.1, # tradeoff L2 regularizer\n",
    "              epochs=200, # iterations\n",
    "              eta=0.001,  # learning rate\n",
    "              random_state=1,\n",
    "              phi=\"sigmoid\",\n",
    "              objective_function=\"quadratic\")"
   ]
  },
  {
   "cell_type": "code",
   "execution_count": 10,
   "metadata": {},
   "outputs": [
    {
     "name": "stderr",
     "output_type": "stream",
     "text": [
      "/anaconda3/lib/python3.5/site-packages/ipykernel_launcher.py:85: RuntimeWarning: overflow encountered in square\n",
      "/anaconda3/lib/python3.5/site-packages/ipykernel_launcher.py:80: RuntimeWarning: overflow encountered in multiply\n",
      "Epoch: 200/200"
     ]
    },
    {
     "name": "stdout",
     "output_type": "stream",
     "text": [
      "Test acc: 0.12222222222222222\n",
      "CPU times: user 24.5 s, sys: 2.79 s, total: 27.3 s\n",
      "Wall time: 6.84 s\n"
     ]
    }
   ],
   "source": [
    "%%time \n",
    "nn = TwoLayerPerceptron(**params)\n",
    "nn.fit(X_train, y_train, print_progress=10)\n",
    "yhat = nn.predict(X_test)\n",
    "print('Test acc:',accuracy_score(y_test,yhat))"
   ]
  },
  {
   "cell_type": "code",
   "execution_count": null,
   "metadata": {},
   "outputs": [],
   "source": []
  }
 ],
 "metadata": {
  "kernelspec": {
   "display_name": "Python 3",
   "language": "python",
   "name": "python3"
  },
  "language_info": {
   "codemirror_mode": {
    "name": "ipython",
    "version": 3
   },
   "file_extension": ".py",
   "mimetype": "text/x-python",
   "name": "python",
   "nbconvert_exporter": "python",
   "pygments_lexer": "ipython3",
   "version": "3.5.6"
  }
 },
 "nbformat": 4,
 "nbformat_minor": 2
}
